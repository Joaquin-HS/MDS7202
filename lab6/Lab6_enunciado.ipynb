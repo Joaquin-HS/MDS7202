{
  "cells": [
    {
      "cell_type": "markdown",
      "metadata": {
        "cell_id": "ac9155b9f5e04400957a6f8bb3f6610c",
        "deepnote_cell_type": "markdown",
        "id": "2v2D1coL7I8i"
      },
      "source": [
        "<h1><center>Laboratorio 6: La solicitud de Sergio 🤗</center></h1>\n",
        "\n",
        "<center><strong>MDS7202: Laboratorio de Programación Científica para Ciencia de Datos - Primavera 2024</strong></center>"
      ]
    },
    {
      "cell_type": "markdown",
      "metadata": {
        "cell_id": "d3d6f6d405c54dbe985a5f4b3e4f9120",
        "deepnote_cell_type": "markdown",
        "id": "YxdTmIPD7L_x"
      },
      "source": [
        "### Cuerpo Docente:\n",
        "\n",
        "- Profesores: Ignacio Meza, Sebastián Tinoco\n",
        "- Auxiliar: Eduardo Moya\n",
        "- Ayudantes: Nicolás Ojeda, Melanie Peña, Valentina Rojas"
      ]
    },
    {
      "cell_type": "markdown",
      "metadata": {
        "cell_id": "851a7788e8214942863cbd4099064ab2",
        "deepnote_cell_type": "markdown",
        "id": "Y2Gyrj-x7N2L"
      },
      "source": [
        "### Equipo: SUPER IMPORTANTE - notebooks sin nombre no serán revisados\n",
        "\n",
        "- Nombre de alumno 1: Joaquín Herrera Suárez\n",
        "- Nombre de alumno 2: Hecmar Taucare Reyes\n"
      ]
    },
    {
      "cell_type": "markdown",
      "metadata": {
        "cell_id": "f23a189afdec4e198683308db70e43b7",
        "deepnote_cell_type": "markdown",
        "id": "jQ9skYc57Pxi"
      },
      "source": [
        "### **Link de repositorio de GitHub:** [Repositorio](https://github.com/Joaquin-HS/MDS7202)"
      ]
    },
    {
      "cell_type": "markdown",
      "metadata": {
        "cell_id": "b5318f41cda64d4290a7a548956ed725",
        "deepnote_cell_type": "markdown",
        "id": "1M4PoEWm7S80"
      },
      "source": [
        "## Temas a tratar\n",
        "- Aplicar Pandas para obtener características de un DataFrame.\n",
        "- Aplicar Pipelines y Column Transformers.\n",
        "- Utilizar diferentes algoritmos de cluster y ver el desempeño.\n",
        "\n",
        "## Reglas:\n",
        "\n",
        "- **Grupos de 2 personas**\n",
        "- Cualquier duda fuera del horario de clases al foro. Mensajes al equipo docente serán respondidos por este medio.\n",
        "- Prohibidas las copias.\n",
        "- Pueden usar cualquer matrial del curso que estimen conveniente.\n",
        "- Código que no se pueda ejecutar, no será revisado.\n",
        "\n",
        "### Objetivos principales del laboratorio\n",
        "- Comprender cómo aplicar pipelines de Scikit-Learn para generar clusters.\n",
        "- Familiarizarse con plotly.\n",
        "\n",
        "El laboratorio deberá ser desarrollado sin el uso indiscriminado de iteradores nativos de python (aka \"for\", \"while\"). La idea es que aprendan a exprimir al máximo las funciones optimizadas que nos entrega `numpy`, las cuales vale mencionar, son bastante más eficientes que los iteradores nativos sobre arreglos (*o tensores*)."
      ]
    },
    {
      "cell_type": "markdown",
      "metadata": {
        "cell_id": "858df483d9e64780a21674afed1d34b8",
        "deepnote_cell_type": "markdown",
        "id": "SuMbiyQZG2Cc"
      },
      "source": [
        "## Descripción del laboratorio"
      ]
    },
    {
      "cell_type": "markdown",
      "metadata": {
        "cell_id": "403ffe48ec994afda4b91e670a08d0ef",
        "deepnote_cell_type": "markdown",
        "id": "QZsNO4rUrqCz"
      },
      "source": [
        "<center>\n",
        "<img src=\"https://i.pinimg.com/originals/5a/a6/af/5aa6afde8490da403a21601adf7a7240.gif\" width=400 />"
      ]
    },
    {
      "cell_type": "markdown",
      "metadata": {
        "cell_id": "0303baa17d4546feae8c9b88c58470bf",
        "deepnote_cell_type": "markdown",
        "id": "2o0MPuk8rqCz"
      },
      "source": [
        "En el corazón de las operaciones de Aerolínea Lucero, Sergio, el gerente de análisis de datos, reunió a un talentoso equipo de jóvenes científicos de datos para un desafío crucial: segmentar la base de datos de los clientes. “Nuestro objetivo es descubrir patrones en el comportamiento de los pasajeros que nos permitan personalizar servicios y optimizar nuestras campañas de marketing,” explicó Sergio, mientras desplegaba un amplio rango de datos que incluían desde hábitos de compra hasta opiniones sobre los vuelos.\n",
        "\n",
        "Sergio encargó a los científicos de datos la tarea de aplicar técnicas avanzadas de clustering para identificar distintos segmentos de clientes, como los viajeros frecuentes y aquellos que eligen la aerolínea para celebrar ocasiones especiales. La meta principal era entender profundamente cómo estos grupos perciben la calidad y satisfacción de los servicios ofrecidos por la aerolínea.\n",
        "\n",
        "A través de un enfoque meticuloso y colaborativo, los científicos de datos se abocaron a la tarea, buscando transformar los datos brutos en valiosos insights que permitirían a Aerolínea Lucero no solo mejorar su servicio, sino también fortalecer las relaciones con sus clientes mediante una oferta más personalizada y efectiva."
      ]
    },
    {
      "cell_type": "markdown",
      "metadata": {
        "cell_id": "e78cb41b144041af98928ab26dcfdaa9",
        "deepnote_cell_type": "markdown",
        "id": "hs4KKWF1Hdpo"
      },
      "source": [
        "## Importamos librerias utiles 😸"
      ]
    },
    {
      "cell_type": "code",
      "execution_count": 2,
      "metadata": {
        "cell_id": "95a5533cfd6d49cfb9afc111c44d224f",
        "deepnote_cell_type": "code",
        "deepnote_to_be_reexecuted": false,
        "execution_millis": 15,
        "execution_start": 1714107106552,
        "id": "a4YpMafirqC0",
        "source_hash": null
      },
      "outputs": [],
      "source": [
        "import numpy as np\n",
        "import pandas as pd\n",
        "\n",
        "from sklearn import datasets\n",
        "\n",
        "import plotly.express as px\n",
        "import plotly.graph_objects as go\n",
        "from plotly.subplots import make_subplots"
      ]
    },
    {
      "cell_type": "markdown",
      "metadata": {
        "cell_id": "acbeab32db6146678e75448dddf43da8",
        "deepnote_cell_type": "markdown",
        "id": "UQOXod4gHhSq"
      },
      "source": [
        "## 1. Estudio de Performance 📈 [10 Puntos]\n",
        "\n"
      ]
    },
    {
      "cell_type": "markdown",
      "metadata": {
        "cell_id": "704b56b978254ad3ae12cdbf58f4832d",
        "deepnote_cell_type": "markdown",
        "id": "Gn5u5ICkrqC2"
      },
      "source": [
        "<center>\n",
        "<img src=\"https://user-images.githubusercontent.com/57133330/188281408-c67df9ee-fd1f-4b37-833b-f02848f1ce02.gif\" width=300>"
      ]
    },
    {
      "cell_type": "markdown",
      "metadata": {
        "cell_id": "d35fbdcc5ef045d6a2822622f0714179",
        "deepnote_cell_type": "markdown",
        "id": "y4Z0jTjtrqC2"
      },
      "source": [
        "Don Sergio les ha encomendado su primera tarea: analizar diversas técnicas de clustering. Su objetivo es entender detalladamente cómo funcionan estos métodos en términos de segmentación y eficiencia en tiempo de ejecución.\n",
        "\n",
        "Analice y compare el desempeño, tiempo de ejecución y visualizaciones de cuatro algoritmos de clustering (k-means, DBSCAN, Ward y GMM) aplicados a tres conjuntos de datos, incrementando progresivamente su tamaño. Utilice Plotly para las gráficas y discuta los resultados tanto cualitativa como cuantitativamente.\n",
        "\n",
        "Uno de los requisitos establecidos por Sergio es que el análisis se lleve a cabo utilizando Plotly; de no ser así, se considerará incorrecto. Para facilitar este proceso, se ha proporcionado un código de Plotly que puede servir como base para realizar las gráficas. Apóyese en el código entregado para efectuar el análisis y tome como referencia la siguiente imagen para realizar los gráficos:\n",
        "\n",
        "<img src='https://gitlab.com/imezadelajara/datos_clase_7_mds7202/-/raw/main/misc_images/Screenshot_2024-04-26_at_9.10.44_AM.png' width=800 />\n",
        "\n",
        "En el gráfico se visualizan en dos dimensiones los diferentes tipos de datos proporcionados en `datasets`. Cada columna corresponde a un modelo de clustering diferente, mientras que cada fila representa un conjunto de datos distinto. Cada uno de los gráficos incluye el tiempo en segundos que tarda el análisis y la métrica Silhouette obtenida."
      ]
    },
    {
      "cell_type": "markdown",
      "metadata": {
        "cell_id": "37580aab6cef4238a8ce42c50a6d35de",
        "deepnote_cell_type": "markdown",
        "id": "maCUNAvZrqC2"
      },
      "source": [
        "Para ser más específicos, usted debe cumplir los siguientes objetivos:\n",
        "1. Generar una función que permita replicar el gráfico expuesto en la imagen (no importa que los colores calcen). [4 puntos]\n",
        "2. Ejecuta la función para un `n_samples` igual a 1000, 5000, 10000. [2 puntos]\n",
        "3. Analice y compare el desempeño, tiempo de ejecución y visualizaciones de cuatro algoritmos de clustering utilizando las 3 configuraciones dadas en `n_samples`. [4 puntos]\n",
        "\n",
        "\n",
        "> ❗ Tiene libertad absoluta de escoger los hiper parámetros de los cluster, sin embargo, se recomienda verificar el dominio de las variables para realizar la segmentación.\n",
        "\n",
        "> ❗ Recuerde que es obligatorio el uso de plotly.\n"
      ]
    },
    {
      "cell_type": "code",
      "execution_count": 2,
      "metadata": {
        "cell_id": "7f7c25e366754595b13fc2e8116f65a0",
        "deepnote_cell_type": "code",
        "deepnote_to_be_reexecuted": false,
        "execution_millis": 78,
        "execution_start": 1714107108441,
        "id": "i0IZPGPOrqC3",
        "source_hash": null
      },
      "outputs": [],
      "source": [
        "\"\"\"\n",
        "En la siguiente celda se crean los datos ficticios a usar en la sección 1 del lab.\n",
        "❗No realice cambios a esta celda a excepción de n_samples❗\n",
        "\"\"\"\n",
        "\n",
        "# Datos a utilizar\n",
        "\n",
        "# Configuracion\n",
        "n_samples = 5000 # Este parámetro si lo pueden modificar\n",
        "\n",
        "def create_data(n_samples):\n",
        "\n",
        "    # Lunas\n",
        "    moons = datasets.make_moons(n_samples=n_samples, noise=0.05, random_state=30)\n",
        "    # Blobs\n",
        "    blobs = datasets.make_blobs(n_samples=n_samples, random_state=172)\n",
        "    # Datos desiguales\n",
        "    transformation = [[0.6, -0.6], [-0.4, 0.8]]\n",
        "    mutated = (np.dot(blobs[0], transformation), blobs[1])\n",
        "\n",
        "    # Generamos Dataset\n",
        "    dataset = {\n",
        "        'moons':{\n",
        "            'x': moons[0], 'classes': moons[1], 'n_cluster': 2\n",
        "        },\n",
        "        'blobs':{\n",
        "            'x': blobs[0], 'classes': blobs[1], 'n_cluster': 3\n",
        "        },\n",
        "        'mutated':{\n",
        "            'x': mutated[0], 'classes': mutated[1], 'n_cluster': 3\n",
        "        }\n",
        "    }\n",
        "    return dataset\n",
        "\n",
        "data_sets = create_data(n_samples)"
      ]
    },
    {
      "cell_type": "markdown",
      "metadata": {
        "id": "y51s6f_UtIkc"
      },
      "source": [
        "**Respuestas:**"
      ]
    },
    {
      "cell_type": "code",
      "execution_count": null,
      "metadata": {},
      "outputs": [],
      "source": [
        "import time\n",
        "from sklearn.cluster import KMeans, AgglomerativeClustering, DBSCAN\n",
        "from sklearn.mixture import GaussianMixture\n",
        "from sklearn.metrics import silhouette_score\n",
        "\n",
        "# Función para aplicar clustering y calcular tiempo y métricas\n",
        "def clustering_analysis(X, algorithm):\n",
        "    start_time = time.time()\n",
        "    model = algorithm.fit(X)\n",
        "    labels = model.predict(X) if hasattr(model, 'predict') else model.labels_\n",
        "    silhouette_avg = silhouette_score(X, labels)\n",
        "    exec_time = time.time() - start_time\n",
        "    return labels, exec_time, silhouette_avg\n",
        "\n",
        "# Función para crear la visualización usando subplots de Plotly\n",
        "def plot_scatter_subplot(fig, row, col, X, labels, exec_time, silhouette_avg, title):\n",
        "    scatter = go.Scatter(\n",
        "        x=X[:, 0], y=X[:, 1], mode='markers',\n",
        "        marker=dict(color=labels, colorscale='Viridis', size=5),\n",
        "        showlegend=False\n",
        "    )\n",
        "    # Scatter plot a la subfigura específica\n",
        "    fig.add_trace(scatter, row=row, col=col)\n",
        "    \n",
        "    # Título para la subfigura\n",
        "    fig.update_xaxes(title_text=f\"Tiempo: {exec_time:.2f}s | Silhouette: {silhouette_avg:.2f}\", row=row, col=col)\n",
        "    fig.update_yaxes(title_text=title, row=row, col=col)\n",
        "\n",
        "# Función que permite ejecutar el análisis con diferentes algoritmos, n_samples e hiperparámetros, generando subplots\n",
        "def execute_clustering_analysis(n_samples, hyperparams):\n",
        "    data_sets = create_data(n_samples)\n",
        "\n",
        "    # Se crea la figura con subplots (3 filas para datasets y 4 columnas para algoritmos)\n",
        "    fig = make_subplots(rows=3, cols=4, subplot_titles=(\"KMeans\", \"GMM\", \"Ward\", \"DBSCAN\"))\n",
        "\n",
        "    row_idx = 1\n",
        "    for dataset_name, data in data_sets.items():\n",
        "        X = data['x']\n",
        "        algo_params = hyperparams[dataset_name]  # Se obtienen los hiperparámetros específicos para cada dataset\n",
        "        col_idx = 1\n",
        "        \n",
        "        # Configuración de algoritmos con los hiperparámetros por dataset\n",
        "        algorithms = {\n",
        "            \"KMeans\": KMeans(n_clusters=algo_params['KMeans']['n_clusters']),\n",
        "            \"GMM\": GaussianMixture(n_components=algo_params['GMM']['n_components']),\n",
        "            \"Ward\": AgglomerativeClustering(n_clusters=algo_params['Ward']['n_clusters'], linkage='ward'),\n",
        "            \"DBSCAN\": DBSCAN(eps=algo_params['DBSCAN']['eps'])\n",
        "        }\n",
        "\n",
        "        for algo_name, algo in algorithms.items():\n",
        "            labels, exec_time, silhouette_avg = clustering_analysis(X, algo)\n",
        "            # Se llama la función que agrega el gráfico en la subfigura correspondiente\n",
        "            plot_scatter_subplot(fig, row_idx, col_idx, X, labels, exec_time, silhouette_avg, f\"{dataset_name}\")\n",
        "            col_idx += 1\n",
        "        row_idx += 1\n",
        "\n",
        "    fig.update_layout(height=900, width=1200, title_text=f\"Comparación de tiempos y desempeño para n_samples={n_samples}\")\n",
        "    fig.show()\n",
        "\n",
        "# Se prueba la función con n_samples = 1000, 5000, 10000, y el siguiente diccionario de hiperparámetros\n",
        "hyperparams = {\n",
        "    'moons': {\n",
        "        'KMeans': {'n_clusters': 2},\n",
        "        'GMM': {'n_components': 2},\n",
        "        'Ward': {'n_clusters': 2},\n",
        "        'DBSCAN': {'eps': 0.2}\n",
        "    },\n",
        "    'blobs': {\n",
        "        'KMeans': {'n_clusters': 3},\n",
        "        'GMM': {'n_components': 3},\n",
        "        'Ward': {'n_clusters': 3},\n",
        "        'DBSCAN': {'eps': 0.3}\n",
        "    },\n",
        "    'mutated': {\n",
        "        'KMeans': {'n_clusters': 3},\n",
        "        'GMM': {'n_components': 3},\n",
        "        'Ward': {'n_clusters': 3},\n",
        "        'DBSCAN': {'eps': 0.3}\n",
        "    }\n",
        "}\n",
        "for n in [1000, 5000, 10000]:\n",
        "    execute_clustering_analysis(n, hyperparams)"
      ]
    },
    {
      "cell_type": "markdown",
      "metadata": {},
      "source": [
        "Se verán los conceptos que se deben analizar para llevar a cabo la evaluación de las visualizaciones obtenidas:\n",
        "\n",
        "- Desempeño: para evaluar desempeño se está utilizando principalmente el índice de Silhouette, el cual mide cohesión y separación entre clusters. Ahora bien, se debe destacar que esta métrica está diseñada principalmente para datos con formas compactas y bien separadas, algo que no ocurre en el dataset \"moons\" donde se tienen formas no convexas. Teniendo esto en mente, se puede analizar de manera visual que en el dataset \"moons\" existen dos clusters con forma de lunas entrelazadas. El algoritmo DBSCAN es el más apropiado para capturar estos clusters no lineales, pero como se explicó previamente, esto no se logra reflejar en la métrica. Ahora bien, observando el dataset \"blobs\" se tiene que, por un lado, DBSCAN no genera separaciones muy apropiadas principalmente por cómo está diseñado (no optimizado para clusters bien separados en \"esferas\"), generando que muchos datos sean considerados outliers; mientras que KMeans, GMM y clustering jerárquico con Ward si lo logran (se refleja en el valor obtenido para el índice de Silhouette). Esto se debe a que KMeans funciona mejor con datos esfericos (en el caso de no encontrar datos esféricos fuerza hasta encontrar datos con respecto al centroide en la periferia para el mejor ajuste posible); GMM funciona mejor con datos elipticos, ya que asume distribuciones normales multivariadas con un funcionamiento similar a KMeans, forzando esta vez a través de probabilidades de pertenecer a distintas gaussianas; y clustering jerárquico con Ward también funciona de buena forma para datos que se ajustan a formas esféricas, ya que minimiza la varianza dentro de los grupos y utiliza distancias euclidianas para capturar adecuadamente las relaciones entre los puntos. Por último, al observar el desempeño de los algoritmos en el dataset \"mutated\" se aprecia como ninguno tiene logra una segmentación apropiada de los datos (dentro de lo esperable visualmente). En la teoria, GMM debería ser uno de los que mejor funciona debido a la forma elíptica de los clusters, y eventualmente también clustering jerárquico con Ward. Por su parte, DBSCAN logra una separación y un índice de Silhouette mayor, pero como se mencionó, este último no tiene mucha relevancia para este algoritmo, además de que la segmentación entre clusters agrupa dos de los grupos que originalmente estaban separados antes de la transformación aplicada a \"blobs\". \n",
        "\n",
        "- Tiempos de ejecución: en primer lugar, se destaca que a medida que aumenta `n_samples`, los tiempos de ejecución para todos los algoritmos aumentan, lo que tiene sentido ya que en cada algoritmo se evalúan métricas entre los puntos que se tienen, luego a mayor cantidad de puntos, mayor es el tiempo. Ahora bien, si se analizan las diferencias entre algoritmos, se exhibe que Kmeans es el más eficiente en términos de tiempo de ejecución (en general para todos los tamaños de muestra), lo que tiene sentido ya que es el algoritmo más simple dentro de los evaluados. Por su parte, GMM y DBSCAN tienen tiempos de ejecución intermedios para los hiperparámetros establecidos, mientras que el clustering jerárquico con Ward es el más lento, aumentando considerablemente (comparando con los otros algoritmos) a medida que incrementa el tamaño de la muestra."
      ]
    },
    {
      "cell_type": "markdown",
      "metadata": {
        "cell_id": "13c5cb8067d9415f83b3d497954a437a",
        "deepnote_cell_type": "markdown",
        "id": "3mCbZc86rqC6"
      },
      "source": [
        "## 2. Análisis de Satisfacción de Vuelos. [10 puntos]"
      ]
    },
    {
      "cell_type": "markdown",
      "metadata": {
        "cell_id": "fd6e991646b44f50a4b13f01d1542415",
        "deepnote_cell_type": "markdown",
        "id": "JI33m5jbrqC6"
      },
      "source": [
        "<center>\n",
        "<img src=\"https://i.gifer.com/2Hci.gif\" width=400 />"
      ]
    },
    {
      "cell_type": "markdown",
      "metadata": {
        "cell_id": "5742dfbd5a2e43778ff250436bab1005",
        "deepnote_cell_type": "markdown",
        "id": "h5k24znirqC7"
      },
      "source": [
        "Habiendo entendido cómo funcionan los modelos de aprendizaje no supervisado, *Don Sergio* le encomienda estudiar la satisfacción de pasajeros al haber tomado un vuelo en alguna de sus aerolineas. Para esto, el magnate le dispone del dataset `aerolineas_licer.parquet`, el cual contiene el grado de satisfacción de los clientes frente a diferentes aspectos del vuelo. Las características del vuelo se definen a continuación:\n",
        "\n",
        "- *Gender*: Género de los pasajeros (Femenino, Masculino)\n",
        "- *Customer Type*: Tipo de cliente (Cliente habitual, cliente no habitual)\n",
        "- *Age*: Edad actual de los pasajeros\n",
        "- *Type of Travel*: Propósito del vuelo de los pasajeros (Viaje personal, Viaje de negocios)\n",
        "- *Class*: Clase de viaje en el avión de los pasajeros (Business, Eco, Eco Plus)\n",
        "- *Flight distance*: Distancia del vuelo de este viaje\n",
        "- *Inflight wifi service*: Nivel de satisfacción del servicio de wifi durante el vuelo (0:No Aplicable; 1-5)\n",
        "- *Departure/Arrival time convenient*: Nivel de satisfacción con la conveniencia del horario de salida/llegada\n",
        "- *Ease of Online booking*: Nivel de satisfacción con la facilidad de reserva en línea\n",
        "- *Gate location*: Nivel de satisfacción con la ubicación de la puerta\n",
        "- *Food and drink*: Nivel de satisfacción con la comida y la bebida\n",
        "- *Online boarding*: Nivel de satisfacción con el embarque en línea\n",
        "- *Seat comfort*: Nivel de satisfacción con la comodidad del asiento\n",
        "- *Inflight entertainment*: Nivel de satisfacción con el entretenimiento durante el vuelo\n",
        "- *On-board service*: Nivel de satisfacción con el servicio a bordo\n",
        "- *Leg room service*: Nivel de satisfacción con el espacio para las piernas\n",
        "- *Baggage handling*: Nivel de satisfacción con el manejo del equipaje\n",
        "- *Check-in service*: Nivel de satisfacción con el servicio de check-in\n",
        "- *Inflight service*: Nivel de satisfacción con el servicio durante el vuelo\n",
        "- *Cleanliness*: Nivel de satisfacción con la limpieza\n",
        "- *Departure Delay in Minutes*: Minutos de retraso en la salida\n",
        "- *Arrival Delay in Minutes*: Minutos de retraso en la llegada"
      ]
    },
    {
      "cell_type": "markdown",
      "metadata": {
        "id": "sOoIFHpw5xCW"
      },
      "source": [
        "En consideración de lo anterior, realice las siguientes tareas:\n",
        "\n",
        "0. Ingeste el dataset a su ambiente de trabajo.\n",
        "\n",
        "1. Seleccione **sólo las variables numéricas del dataset**.  Explique qué éfectos podría causar el uso de variables categóricas en un algoritmo no supervisado. [2 punto]\n",
        "\n",
        "2. Realice una visualización de la distribución de cada variable y analice cada una de estas distribuciones. [2 punto]\n",
        "\n",
        "3. Basándose en los gráficos, evalúe la necesidad de escalar los datos y explique el motivo de su decisión. [2 puntos]\n",
        "\n",
        "4. Examine la correlación entre las variables mediante un correlograma. [2 puntos]\n",
        "\n",
        "5. De acuerdo con los resultados obtenidos en 5, reduzca la dimensionalidad del conjunto de datos a cuatro variables, justificando su elección respecto a las variables que decide eliminar. [2 puntos]"
      ]
    },
    {
      "cell_type": "markdown",
      "metadata": {
        "id": "tO6tcVBCtxxS"
      },
      "source": [
        "**Respuesta:**"
      ]
    },
    {
      "cell_type": "code",
      "execution_count": null,
      "metadata": {
        "id": "pzHTZ17xveU_"
      },
      "outputs": [],
      "source": [
        "# 0.\n",
        "df = pd.read_parquet('aerolineas_lucer.parquet')\n",
        "df"
      ]
    },
    {
      "cell_type": "code",
      "execution_count": null,
      "metadata": {},
      "outputs": [],
      "source": [
        "# 1.\n",
        "df_num = df[df.select_dtypes(include='number').columns]\n",
        "df_num.drop(columns=['id'], inplace=True)\n",
        "df_num"
      ]
    },
    {
      "cell_type": "markdown",
      "metadata": {},
      "source": [
        "El utilizar variables categóricas en algoritmos no supervisados sin adecuarlos previamente puede causar problemas, ya que muchos dependen de realizar cálculos de distancias, los cuales solo tienen sentido con valores numéricos."
      ]
    },
    {
      "cell_type": "code",
      "execution_count": null,
      "metadata": {},
      "outputs": [],
      "source": [
        "# 2.\n",
        "import seaborn as sns\n",
        "import matplotlib.pyplot as plt\n",
        "import numpy as np\n",
        "\n",
        "# Tamaño del gráfico\n",
        "plt.figure(figsize=(20, 15))\n",
        "\n",
        "# Se grafica la distribución de cada variable numérica\n",
        "for i, col in enumerate(df_num.columns, 1):\n",
        "    plt.subplot(4, 5, i)\n",
        "    \n",
        "    if col in [\"Age\", \"Flight Distance\"]:\n",
        "        sns.histplot(df_num[col], kde=True)\n",
        "    elif col in [\"Departure Delay in Minutes\", \"Arrival Delay in Minutes\"]:\n",
        "        sns.histplot(np.log(df_num[col]+1), kde=False)\n",
        "        plt.xlabel(f'log(\"{col}\" + 1)')\n",
        "    else:\n",
        "        sns.histplot(df_num[col], kde=False)\n",
        "\n",
        "    plt.title(f'Distribución de \"{col}\"')\n",
        "\n",
        "plt.tight_layout()\n",
        "plt.show()"
      ]
    },
    {
      "cell_type": "markdown",
      "metadata": {},
      "source": [
        "Análisis de las distribuciones por variable:\n",
        "\n",
        "- Distribución de \"Age\": se observa una distribución con picos en edades entre los 20-40 años y uno menor en el grupo de edad de 60-70 años, lo que indica que existe una diversidad de grupos de edad entre los pasajeros.\n",
        "\n",
        "- Distribución de \"Flight Distance\": la distribución de los datos está sesgada hacia la izquierda, lo que indica que la mayoría de los vuelos son de corta distancia, sin desmerecer que existen algunos vuelos de larga distancia.\n",
        "\n",
        "- Distribución de \"Inflight wifi service\": en esta variable hay muchos pasajeros que no la calificaron (0), probablemente porque no utilizaron el servicio. Ahora bien, observando las calificaciones válidas (1-5), se aprecia que existe una tendecia hacia notas bajas-intermedias (2-3).\n",
        "\n",
        "- Distribución de \"Departure/Arrival time convenient\": las respuestas para esta variable se centran en una calificación intermedia-alta (4), lo que sugiere que los pasajeros están satisfechos pero no de manera tajante.\n",
        "\n",
        "- Distribución de \"Ease of Online booking\": la distribución de esta variable es prácticamente idéntica a la que se observó en \"Inflight wifi service\".\n",
        "\n",
        "- Distribución de \"Gate location\": las calificaciones para esta variable indican que 3 y 4 son las más comunes, lo que muestra que los pasajeros tienen una satisfacción media con este servicio.\n",
        "\n",
        "- Distribución de \"Food and drink\": esta variable genera un nivel de satisfacción muy variado entre los pasajeros, ya que los conteos están muy distribuidos entre todas las calificaciones posibles.\n",
        "\n",
        "- Distribución de \"Online boarding\": esta variable distribuye similar a \"Departure/Arrival time convenient\", con la diferencia de que las notas menores son menos notorias.\n",
        "\n",
        "- Distribución de \"Seat comfort\": esta variable tiene un comportamiento similar a \"Online boarding\", salvo porque la mejor nota tiene una mayor preponderancia.\n",
        "\n",
        "- Distribución de \"Inflight entertainment\": esta variable distribuye de la misma forma que \"Seat comfort\".\n",
        "\n",
        "- Distribución de \"On-board service\": esta variable se comporta de manera equivalente a \"Online boarding\".\n",
        "\n",
        "- Distribución de \"Leg room service\": las respuestas de esta variable se dividen en dos grupos: uno que tiene un gran nivel de satisfacción (4-5), y otro con bajo-intermedio nivel de satisfacción (2-3). Nótese que el primero domina sobre el segundo.\n",
        "\n",
        "- Distribución de \"Baggage handling\": para esta variable la calificación 4 es la más común, lo que muestra que están satisfechos con el manejo del equipaje, pero no en su máximo nivel.\n",
        "\n",
        "- Distribución de \"Check-in service\": las calificaciones que dominan en esta variable son la 3 y la 4, lo que sugiere un nivel de satisfacción medio-alto sobre el servicio de *check-in*.\n",
        "\n",
        "- Distribución de \"Inflight service\": la mayoría de las calificaciones son altas (4 y 5), lo que muestra satisfacción con el servicio durante el vuelo.\n",
        "\n",
        "- Distribución de \"Cleanliness\": esta variable está distribuida de manera dispersa entre los pasajeros, pero con una mayor dominancia a considerar niveles de satisfacción intermedios-altos en materia de limpieza.\n",
        "\n",
        "- Distribución de \"Departure Delay in Minutes\": la mayoría de los vuelos tienen retrasos muy pequeños (cerca de 0), pero hay una pequeña cantidad con retrasos significativos. Existe una clara cola larga en la distribución. Nótese que se incluyó una transformación logarítmica para poder visualizar mejor la distribución.\n",
        "\n",
        "- Distribución de \"Arrival Delay in Minutes\": esta variable distribuye de la misma forma que \"Departure Delay in Minutes\"."
      ]
    },
    {
      "cell_type": "code",
      "execution_count": null,
      "metadata": {},
      "outputs": [],
      "source": [
        "# 3\n",
        "df_num.describe()"
      ]
    },
    {
      "cell_type": "markdown",
      "metadata": {},
      "source": [
        "Es necesario escalar los datos, ya que columnas como \"Age\", \"Flight Distance\", \"Departure Delay in Minutes\" y \"Arrival Delay in Minutes\" tienen valores numéricos mucho más grandes que las variables de satisfacción (de hecho, están en otra escala), lo que implica que dominarían en los algoritmos basados en distancias sobre el resto de variables. Al escalar, todas las variables tendrán la misma relevancia.\n",
        "\n",
        "Se utilizará StandardScaler, tanto para las variables numéricas como las categóricas ordinales, asumiendo que en estas últimas las diferencias entre niveles de satisfacción son uniformes. Se llevaron a cabo pruebas con otros escaladores (incluyendo el utilizar distintos escaladores por tipo de variable) pero ninguno entregó resultados apropiados, principalmente por esta diferencia entre los tipos de variables y cómo se terminan interpretando por los modelos de machine learning."
      ]
    },
    {
      "cell_type": "code",
      "execution_count": null,
      "metadata": {},
      "outputs": [],
      "source": [
        "from sklearn.preprocessing import StandardScaler\n",
        "scaler = StandardScaler()\n",
        "df_num_scaled = pd.DataFrame(scaler.fit_transform(df_num), columns=df_num.columns)\n",
        "df_num_scaled"
      ]
    },
    {
      "cell_type": "code",
      "execution_count": null,
      "metadata": {},
      "outputs": [],
      "source": [
        "# 4\n",
        "plt.figure(figsize=(12, 10))\n",
        "correlation_matrix = df_num_scaled.corr()\n",
        "\n",
        "sns.heatmap(correlation_matrix, annot=True, cmap='coolwarm', fmt=\".2f\", linewidths=0.5)\n",
        "plt.title('Correlograma')\n",
        "plt.show()"
      ]
    },
    {
      "cell_type": "code",
      "execution_count": null,
      "metadata": {},
      "outputs": [],
      "source": [
        "# 5\n",
        "df_reduced = df_num_scaled[['Flight Distance', 'Inflight wifi service', 'Seat comfort', 'Departure Delay in Minutes']]\n",
        "df_reduced"
      ]
    },
    {
      "cell_type": "markdown",
      "metadata": {},
      "source": [
        "Se seleccionaron las variables `'Flight Distance', 'Inflight wifi service', 'Seat comfort', 'Departure Delay in Minutes'` debido a la baja correlación que tienen entre sí y con el resto (en general. Algunas representan grupos de variables correlacionadas linealmente), además de su intrínseca importancia a la hora de evaluar la satisfacción de un pasajero de avión. Esto permite un buen balance de información para proceder a realizar estudios."
      ]
    },
    {
      "cell_type": "markdown",
      "metadata": {
        "cell_id": "4b6c047d994f40ea9e78a36a777042e0",
        "deepnote_cell_type": "markdown",
        "id": "PNGfTgtkrqC9"
      },
      "source": [
        "## 3. Preprocesamiento 🎭. [10 puntos]"
      ]
    },
    {
      "cell_type": "markdown",
      "metadata": {
        "cell_id": "713b3f0e61dd4841bb5b38c730d344d5",
        "deepnote_cell_type": "markdown",
        "id": "6RZD0fMNrqC-"
      },
      "source": [
        "<center>\n",
        "<img src=\"https://i.pinimg.com/originals/1e/a8/0e/1ea80e7cea0d429146580c7e91c5b944.gif\" width=400>"
      ]
    },
    {
      "cell_type": "markdown",
      "metadata": {
        "cell_id": "98400c7b5fec4af193eec3601f53891e",
        "deepnote_cell_type": "markdown",
        "id": "J6d4VEOTrqC-"
      },
      "source": [
        "Tras quedar satisfecho con los resultados presentados en el punto 2, el dueño de la empresa ha solicitado que se preprocesen los datos mediante un `pipeline`. Es crucial que este proceso tenga en cuenta las observaciones derivadas de los análisis anteriores. Adicionalmente, ha expresado su interés en visualizar el conjunto de datos en un gráfico de dos o tres dimensiones.\n",
        "\n",
        "Basándose en los análisis realizados anteriormente:\n",
        "1. Cree un `pipeline` que incluya PCA, utilizando las consideraciones mencionadas previamente para proyectar los datos a dos dimensiones. [4 puntos]\n",
        "2. Grafique los resultados obtenidos y comente lo visualizado. [6 puntos]"
      ]
    },
    {
      "cell_type": "markdown",
      "metadata": {
        "id": "paDSaGoq0OUp"
      },
      "source": [
        "**Respuestas:**"
      ]
    },
    {
      "cell_type": "code",
      "execution_count": 13,
      "metadata": {},
      "outputs": [],
      "source": [
        "df = pd.read_parquet('aerolineas_lucer.parquet')"
      ]
    },
    {
      "cell_type": "code",
      "execution_count": null,
      "metadata": {
        "cell_id": "ad1e70818ad748638ca0927b07a76125",
        "deepnote_cell_type": "code",
        "id": "gBYG238wrqC-"
      },
      "outputs": [],
      "source": [
        "# 1.\n",
        "from sklearn.preprocessing import StandardScaler\n",
        "from sklearn.decomposition import PCA\n",
        "from sklearn.pipeline import Pipeline\n",
        "from sklearn.compose import ColumnTransformer\n",
        "\n",
        "# Se crea el pipeline con los cambios previos (selección de columnas y escalamiento), junto con la reducción de dimensionalidad\n",
        "columns_to_select = ['Flight Distance', 'Inflight wifi service', 'Seat comfort', 'Departure Delay in Minutes']\n",
        "pipeline = Pipeline(steps=[\n",
        "    ('reduce', ColumnTransformer(\n",
        "        [('selector', 'passthrough', columns_to_select)],\n",
        "        remainder='drop')),  # Se ignoran las otras columnas\n",
        "    ('scaler', StandardScaler()),\n",
        "    ('pca', PCA(n_components=2))  # Reducción a dos dimensiones\n",
        "])\n",
        "\n",
        "# Se aplica el pipeline a los datos\n",
        "df_pca = pipeline.fit_transform(df)\n",
        "df_pca = pd.DataFrame(df_pca, columns=['PC1', 'PC2'])\n",
        "\n",
        "df_pca"
      ]
    },
    {
      "cell_type": "code",
      "execution_count": null,
      "metadata": {},
      "outputs": [],
      "source": [
        "# 2\n",
        "import matplotlib.pyplot as plt\n",
        "import seaborn as sns\n",
        "\n",
        "plt.figure(figsize=(10, 8))\n",
        "sns.scatterplot(x='PC1', y='PC2', data=df_pca, alpha=0.7)\n",
        "plt.title('PCA para dos dimensiones')\n",
        "plt.xlabel('Componente principal 1')\n",
        "plt.ylabel('Componente principal 2')\n",
        "plt.grid()\n",
        "plt.show()"
      ]
    },
    {
      "cell_type": "markdown",
      "metadata": {},
      "source": [
        "El gráfico obtenido muestra una serie de comportamientos. En primer lugar, exhibe que existe un principal agrupamiento de datos, es decir, un clúster principal de pasajeros con características similares en términos de satisfacción. Ahora bien, también es importante destacar que existe una cantidad no menor de outliers. Por último, se menciona que la variabilidad de los datos está representada principalmente por la primera componente principal (cierta combinación lineal de las variables elegidas), dejando a la segunda sin tanta relevancia."
      ]
    },
    {
      "cell_type": "markdown",
      "metadata": {
        "cell_id": "bd281470d3054764a63d857cfa7d52a6",
        "deepnote_cell_type": "text-cell-h2",
        "formattedRanges": [],
        "id": "7ENoOtIIrqC_"
      },
      "source": [
        "## 4. Outliers 🚫🙅‍♀️❌🙅‍♂️ [10 puntos]"
      ]
    },
    {
      "cell_type": "markdown",
      "metadata": {
        "cell_id": "db89e9c9f35c44abbd8991180226c0ea",
        "deepnote_cell_type": "markdown",
        "id": "fbGw6Sa-rqC_"
      },
      "source": [
        "<center>\n",
        "<img src=\"https://joachim-gassen.github.io/images/ani_sim_bad_leverage.gif\" width=250>"
      ]
    },
    {
      "cell_type": "markdown",
      "metadata": {
        "cell_id": "3e2f59fa12954641af7a854a4e203694",
        "deepnote_cell_type": "markdown",
        "id": "nl_ccu9brqDA"
      },
      "source": [
        "Con el objetivo de mantener la claridad en su análisis, Don Sergio le ha solicitado entrenar un modelo que identifique pasajeros con comportamientos altamente atípicos.\n",
        "\n",
        "1. Utilice `IsolationForest` para clasificar las anomalías del dataset (sin aplicar PCA), configurando el modelo para que sólo el 1% de los datos sean considerados anómalos. Asegúrese de integrar esta tarea dentro de un `pipeline`. [3 puntos]\n",
        "\n",
        "2. Visualice los resultados en el gráfico de dos dimensiones previamente creado. [3 puntos]\n",
        "\n",
        "3. ¿Cómo evaluaría el rendimiento de su modelo en la detección de anomalías? [4 puntos]"
      ]
    },
    {
      "cell_type": "markdown",
      "metadata": {
        "id": "b5cS1FR00NlF"
      },
      "source": [
        "**Respuestas:**"
      ]
    },
    {
      "cell_type": "code",
      "execution_count": 17,
      "metadata": {},
      "outputs": [],
      "source": [
        "df = pd.read_parquet('aerolineas_lucer.parquet')"
      ]
    },
    {
      "cell_type": "code",
      "execution_count": null,
      "metadata": {},
      "outputs": [],
      "source": [
        "import pandas as pd\n",
        "from sklearn.preprocessing import StandardScaler\n",
        "from sklearn.ensemble import IsolationForest\n",
        "from sklearn.pipeline import Pipeline\n",
        "from sklearn.compose import ColumnTransformer\n",
        "\n",
        "# Se considera que en este apartado también hay que realizar la reducción de variables y el escalamiento.\n",
        "\n",
        "# Se crea el pipeline con los cambios previos (selección de columnas y escalamiento), junto con el tratamiento de outliers\n",
        "columns_to_select = ['Flight Distance', 'Inflight wifi service', 'Seat comfort', 'Departure Delay in Minutes']\n",
        "pipeline = Pipeline(steps=[\n",
        "    ('reduce', ColumnTransformer(\n",
        "        transformers=[\n",
        "            ('selector', 'passthrough', columns_to_select)\n",
        "        ],\n",
        "        remainder='drop')),  # Se ignoran las otras columnas\n",
        "    ('scaler', StandardScaler()),\n",
        "    ('isolation_forest', IsolationForest(contamination=0.01, random_state=42))  # Detecta el 1% de anomalías\n",
        "])\n",
        "\n",
        "# Se aplica el pipeline a los datos\n",
        "pipeline.fit(df)\n",
        "\n",
        "# Se predicen las anomalías (el valor -1 indicará anomalía y el valor 1 será normal)\n",
        "anomalies = pipeline.named_steps['isolation_forest'].predict(df[columns_to_select])"
      ]
    },
    {
      "cell_type": "code",
      "execution_count": null,
      "metadata": {},
      "outputs": [],
      "source": [
        "# Se añaden las anomalías predichas al df_pca\n",
        "df_pca['anomaly'] = anomalies\n",
        "\n",
        "# Se grafica el PCA en dos dimensiones usando las anomalías como hue\n",
        "import matplotlib.pyplot as plt\n",
        "import seaborn as sns\n",
        "\n",
        "plt.figure(figsize=(10, 8))\n",
        "sns.scatterplot(x='PC1', y='PC2', data=df_pca, hue='anomaly', palette={1: 'blue', -1: 'red'}, alpha=0.7)\n",
        "plt.title('PCA para dos dimensiones con detección de anomalías')\n",
        "plt.xlabel('Componente principal 1')\n",
        "plt.ylabel('Componente principal 2')\n",
        "plt.grid()\n",
        "plt.show()"
      ]
    },
    {
      "cell_type": "code",
      "execution_count": null,
      "metadata": {},
      "outputs": [],
      "source": [
        "df_pca['anomaly'].value_counts()"
      ]
    },
    {
      "cell_type": "markdown",
      "metadata": {},
      "source": [
        "El modelo no está detectando las anomalías de buena forma, ya que las distribuciones de ``Flight Distance`` y `Departure Delay in Minutes` son muy asimétricas, abarcando un rango amplio de valores posibles. Aplicar un filtro previo, una normalización menos sensible a outliers, o emplear transformaciones que reduzcan la extensión de las distribuciones podrían ayudar a que el algoritmo `isolation_forest` tenga un mejor desempeño."
      ]
    },
    {
      "cell_type": "markdown",
      "metadata": {
        "cell_id": "3871e2fe5bdd422dbdbfaebf75503ae3",
        "deepnote_cell_type": "markdown",
        "id": "zQFTklmVrqDB"
      },
      "source": [
        "## 5. Métricas de Desempeño 🚀 [10 puntos]"
      ]
    },
    {
      "cell_type": "markdown",
      "metadata": {
        "cell_id": "236333de6dd445c182aefcc507589325",
        "deepnote_cell_type": "markdown",
        "id": "YpNj4wbPrqDB"
      },
      "source": [
        "<center>\n",
        "<img src=\"https://giffiles.alphacoders.com/219/219081.gif\" width=300>"
      ]
    },
    {
      "cell_type": "markdown",
      "metadata": {
        "cell_id": "a7e1ceb91be94b1da2ab8be97dfac999",
        "deepnote_cell_type": "markdown",
        "id": "CR3hzRxrrqDB"
      },
      "source": [
        "Motivado por incrementar su fortuna, Don Sergio le solicita entrenar un modelo que le permita segmentar a los pasajeros en grupos distintos, con el objetivo de optimizar las diversas campañas de marketing diseñadas por su equipo. Para ello, le se pide realizar las siguientes tareas:\n",
        "\n",
        "1. Utilizar el modelo **Gaussian Mixture** y explore diferentes configuraciones de número de clústers, específicamente entre 3 y 8. Asegúrese de integrar esta operación dentro de un `pipeline`. [4 puntos]\n",
        "2. Explique cuál sería el criterio adecuado para seleccionar el número óptimo de clústers. **Justifique de forma estadistica y a traves de gráficos.** [6 puntos]\n",
        "\n",
        "> **HINT:** Se recomienda investigar sobre los criterios AIC y BIC para esta tarea."
      ]
    },
    {
      "cell_type": "markdown",
      "metadata": {
        "id": "Jt_T_zTg0MXB"
      },
      "source": [
        "**Respuestas:**"
      ]
    },
    {
      "cell_type": "code",
      "execution_count": 3,
      "metadata": {},
      "outputs": [],
      "source": [
        "df = pd.read_parquet('aerolineas_lucer.parquet')"
      ]
    },
    {
      "cell_type": "code",
      "execution_count": null,
      "metadata": {
        "cell_id": "6d3d1bb3fda14321984466d9101a775a",
        "deepnote_cell_type": "code",
        "id": "5GeUb9J3rqDB"
      },
      "outputs": [],
      "source": [
        "from sklearn.preprocessing import StandardScaler\n",
        "from sklearn.mixture import GaussianMixture\n",
        "from sklearn.pipeline import Pipeline\n",
        "from sklearn.compose import ColumnTransformer\n",
        "import matplotlib.pyplot as plt\n",
        "\n",
        "# Columnas relevantes\n",
        "columns_to_select = ['Flight Distance', 'Inflight wifi service', 'Seat comfort', 'Departure Delay in Minutes']\n",
        "\n",
        "# Lista para almacenar AIC y BIC\n",
        "aic_scores = []\n",
        "bic_scores = []\n",
        "\n",
        "# Diferentes números de clústers: entre 3 y 8\n",
        "n_clusters_range = range(3, 9)\n",
        "for n_clusters in n_clusters_range:\n",
        "    # Se crea el pipeline\n",
        "    pipeline = Pipeline(steps=[\n",
        "        ('reduce', ColumnTransformer(\n",
        "            transformers=[('selector', 'passthrough', columns_to_select)],\n",
        "            remainder='drop')),\n",
        "        ('scaler', StandardScaler()),\n",
        "        ('gmm', GaussianMixture(n_components=n_clusters, random_state=42))\n",
        "    ])\n",
        "    \n",
        "    # Se ajusta el modelo a los datos\n",
        "    pipeline.fit(df)\n",
        "    \n",
        "    # Se extrae el modelo GMM\n",
        "    gmm_model = pipeline.named_steps['gmm']\n",
        "    \n",
        "    # Se calcula AIC y BIC\n",
        "    aic_scores.append(gmm_model.aic(df[columns_to_select]))\n",
        "    bic_scores.append(gmm_model.bic(df[columns_to_select]))"
      ]
    },
    {
      "cell_type": "code",
      "execution_count": null,
      "metadata": {},
      "outputs": [],
      "source": [
        "# Se grafica AIC y BIC para los diferentes números de clústers\n",
        "plt.figure(figsize=(10, 6))\n",
        "plt.plot(n_clusters_range, aic_scores, label='AIC', marker='o', linestyle='-', color='blue', alpha=0.7)\n",
        "plt.plot(n_clusters_range, bic_scores, label='BIC', marker='x', linestyle='--', color='red', alpha=0.7)\n",
        "plt.xlabel('Número de Clústers')\n",
        "plt.ylabel('Valor de AIC/BIC')\n",
        "plt.title('Selección del número óptimo de clústers usando AIC y BIC')\n",
        "plt.legend()\n",
        "plt.grid(True)\n",
        "plt.show()"
      ]
    },
    {
      "cell_type": "markdown",
      "metadata": {},
      "source": [
        "El criterio adecuado para seleccionar el número óptimo de clusters usando AIC y BIC sería minimizar ambos valores, ya que éstos buscan encontrar modelos que logran el mejor ajuste sin agregar complejidad innecesaria. Se observa que ambas métricas tienen los mismos valores para cada número de clústers analizado, lo que tiene sentido ya que se están comparando modelos sin variar el número de datos.\n",
        "\n",
        "Con el criterio estadístico mencionado, el gráfico expuesto indica que 5 sería el número óptimo de clústers para optimizar las campañas de marketing. Ahora bien, es importante destacar que las personas expertas en materia de vuelos deberían realizar un estudio sobre la utilidad de esta decisión, ya que si bien es óptima desde un punto de vista estadístico, en términos de marketing podría ser más manejable o interpretable una menor segmentación de los pasajeros."
      ]
    },
    {
      "cell_type": "markdown",
      "metadata": {
        "cell_id": "dd342e336254418ba766b29dce16b267",
        "deepnote_cell_type": "markdown",
        "id": "P9CERnaerqDC"
      },
      "source": [
        "## 6. Análisis de resultados 📊 [10 puntos]"
      ]
    },
    {
      "cell_type": "markdown",
      "metadata": {
        "cell_id": "953b5ad01a704b50b899db7176d1b7b2",
        "deepnote_cell_type": "markdown",
        "id": "I1yNa111rqDC"
      },
      "source": [
        "<center>\n",
        "<img src=\"https://i.gifer.com/7wTk.gif\" width=300>"
      ]
    },
    {
      "cell_type": "markdown",
      "metadata": {
        "cell_id": "fd90e2f135404353ac0b5ab844936ca7",
        "deepnote_cell_type": "markdown",
        "id": "dg0Qx4RZrqDC"
      },
      "source": [
        "Una vez identificado el número óptimo de clústers, se le pide realizar lo siguiente:\n",
        "\n",
        "1. Utilizar la proyección en dos dimensiones para visualizar cada clúster claramente. [2 puntos]\n",
        "\n",
        "2. ¿Es posible distinguir claramente entre los clústers generados? [2 puntos]\n",
        "\n",
        "3. Proporcionar una descripción breve de cada clúster utilizando estadísticas descriptivas básicas, como la media y la desviación estándar, para resumir las características de las variables utilizadas en estos algoritmos. [2 puntos]\n",
        "\n",
        "4. Proceda a visualizar los clústers en tres dimensiones para una perspectiva más detallada. [2 puntos]\n",
        "\n",
        "5. ¿Cómo afecta esto a sus conclusiones anteriores? [2 puntos]"
      ]
    },
    {
      "cell_type": "markdown",
      "metadata": {
        "id": "CRN0zZip0IMB"
      },
      "source": [
        "**Respuestas:**"
      ]
    },
    {
      "cell_type": "code",
      "execution_count": 27,
      "metadata": {},
      "outputs": [],
      "source": [
        "df = pd.read_parquet('aerolineas_lucer.parquet')"
      ]
    },
    {
      "cell_type": "code",
      "execution_count": null,
      "metadata": {
        "cell_id": "9abf4dbc643e40cebe99fcb1ff3ff413",
        "deepnote_cell_type": "code",
        "id": "XmZrz15GrqDC"
      },
      "outputs": [],
      "source": [
        "# 1\n",
        "\n",
        "# Columnas relevantes\n",
        "columns_to_select = ['Flight Distance', 'Inflight wifi service', 'Seat comfort', 'Departure Delay in Minutes']\n",
        "\n",
        "# Se crea el pipeline\n",
        "pipeline = Pipeline(steps=[\n",
        "    ('reduce', ColumnTransformer(\n",
        "        transformers=[('selector', 'passthrough', columns_to_select)],\n",
        "        remainder='drop')),\n",
        "    ('scaler', StandardScaler()),\n",
        "    ('gmm', GaussianMixture(n_components=5, random_state=42))\n",
        "])\n",
        "    \n",
        "# Se ajusta el modelo a los datos\n",
        "pipeline.fit(df)\n",
        "\n",
        "# Se predicen los clústers\n",
        "clusters = pipeline.predict(df)\n",
        "\n",
        "# Se añaden los clústers al df_pca\n",
        "df_pca['cluster'] = clusters\n",
        "\n",
        "# Se grafica el PCA en dos dimensiones usando los clústers como hue\n",
        "import matplotlib.pyplot as plt\n",
        "import seaborn as sns\n",
        "\n",
        "plt.figure(figsize=(10, 8))\n",
        "sns.scatterplot(x='PC1', y='PC2', hue='cluster', palette='viridis', data=df_pca, alpha=0.7)\n",
        "plt.title('Proyección PCA de los clústers')\n",
        "plt.xlabel('Componente principal 1')\n",
        "plt.ylabel('Componente principal 2')\n",
        "plt.grid()\n",
        "plt.show()"
      ]
    },
    {
      "cell_type": "markdown",
      "metadata": {},
      "source": [
        "Al observar la proyección PCA en dos dimensiones de los clústers se aprecia que no están bien separados, marcando superposiciones significativas. De esta manera, no es posible distinguir claramente entre los clústers generados. Es posible que agregando una dimensión extra se puedan distinguir de mejor forma."
      ]
    },
    {
      "cell_type": "code",
      "execution_count": null,
      "metadata": {},
      "outputs": [],
      "source": [
        "# 3\n",
        "\n",
        "# Se agrega la columna de clúster al DataFrame original\n",
        "df['Cluster'] = clusters\n",
        "\n",
        "# Se calculan estadísticas descriptivas para cada clúster\n",
        "cluster_summary = df.groupby('Cluster')[columns_to_select].agg(['mean', 'std'])\n",
        "cluster_summary"
      ]
    },
    {
      "cell_type": "markdown",
      "metadata": {},
      "source": [
        "A continuación se presenta una descripción breve para cada clúster:\n",
        "\n",
        "- Clúster 0: este clúster cuenta con tanto un promedio como una desviación estándar alta en materia de distancias de vuelo, lo que sugiere una amplia variabilidad en este atributo. Por su parte, el servicio wifi en vuelo es de calidad media, sin mucha media ni mucha desviación estándar. Esto último ocurre de la misma forma para la comodidad de los asientos, mientras que se tiene un buen desempeño en cuanto a la puntualidad, ya que no cuenta con retrasos en las salidas.\n",
        "\n",
        "- Clúster 1: este clúster cuenta con pasajeros que tienden a volar distancias más cortas en promedio (sin mucha variabilidad), con satisfacción similar con respecto al clúster anterior con respecto a la calidad del servicio wifi en vuelo y la comodidad de los asientos, pero con retrasos moderados en cuanto a la salida de los vuelos, algo a destacar aún más cuando los vuelos son menores en distancia.\n",
        "\n",
        "- Clúster 2: este clúster se compone de pasajeros que realizan vuelos más largos en promedio que los del primer clúster, pero con la misma variabilidad. La satisfacción en cuanto al wifi es similar a los casos anteriores, pero se destaca que cuentan con un mayor confort si se analiza la comodidad de los asientos (destacando además una menor variabilidad en cuanto a la calificación que tiene este apartado con respecto al resto de clústers). Por último, cuenta con un buen desempeño en cuanto a puntualidad (levemente peor que el clúster 0, pero mucho mejor que el clúster 1).\n",
        "\n",
        "- Clúster 3: este clúster cuenta con pasajeros que tienden a realizar vuelos de corta/media distancia (nuevamente sin mucha variabilidad). En cuanto a los atributos de satisfacción, se destaca que para tanto el wifi en vuelo como para la comodidad de los asientos, este clúster cuenta con las peores calificaciones en promedio, además de no presentar muchas variabilidad dentro de los datos que lo componen. Por último, viendo el retraso en la salida de los vuelos, este clúster muestra una leve tendencia a tener retrasos.\n",
        "\n",
        "- Clúster 4: este clúster se compone de los pasajeros que tienden a volar distancias más largas, pero con la mayor variabilidad. Los niveles de satisfacción de wifi y comodidad de los asientos son similares a los clústers 0 y 1, y con el peor nivel de puntualidad si se compara al resto de clústers."
      ]
    },
    {
      "cell_type": "code",
      "execution_count": null,
      "metadata": {},
      "outputs": [],
      "source": [
        "# 4\n",
        "import pandas as pd\n",
        "from sklearn.preprocessing import StandardScaler\n",
        "from sklearn.decomposition import PCA\n",
        "from sklearn.pipeline import Pipeline\n",
        "from sklearn.compose import ColumnTransformer\n",
        "\n",
        "df = pd.read_parquet('aerolineas_lucer.parquet')\n",
        "\n",
        "# Se crea el pipeline con los cambios previos (selección de columnas y escalamiento), junto con la reducción de dimensionalidad\n",
        "columns_to_select = ['Flight Distance', 'Inflight wifi service', 'Seat comfort', 'Departure Delay in Minutes']\n",
        "pipeline = Pipeline(steps=[\n",
        "    ('reduce', ColumnTransformer(\n",
        "        [('selector', 'passthrough', columns_to_select)],\n",
        "        remainder='drop')),  # Se ignoran las otras columnas\n",
        "    ('scaler', StandardScaler()),\n",
        "    ('pca', PCA(n_components=3))  # Reducción a tres dimensiones\n",
        "])\n",
        "\n",
        "# Se aplica el pipeline a los datos\n",
        "df_pca_3 = pipeline.fit_transform(df)\n",
        "df_pca_3 = pd.DataFrame(df_pca_3, columns=['PC1', 'PC2', 'PC3'])\n",
        "\n",
        "# Se añaden los clústers al df_pca\n",
        "df_pca_3['cluster'] = clusters\n",
        "\n",
        "\n",
        "\n",
        "# Se definen colores específicos para cada clúster\n",
        "colors = ['red', 'blue', 'green', 'purple', 'orange']  # Ajusta estos colores a tu preferencia\n",
        "cluster_colors = [colors[i] for i in df_pca_3['cluster']]\n",
        "\n",
        "# Se grafica el PCA en tres dimensiones usando colores específicos\n",
        "fig = plt.figure(figsize=(10, 8))\n",
        "ax = fig.add_subplot(111, projection='3d')\n",
        "scatter = ax.scatter(df_pca_3['PC1'], df_pca_3['PC2'], df_pca_3['PC3'], c=cluster_colors, alpha=0.7)\n",
        "\n",
        "# Se crea una leyenda personalizada\n",
        "import matplotlib.patches as mpatches\n",
        "legend_handles = [mpatches.Patch(color=colors[i], label=f'Clúster {i}') for i in range(len(colors))]\n",
        "ax.legend(handles=legend_handles, title='Clústers')\n",
        "\n",
        "ax.set_title('Proyección 3D de los Clústers')\n",
        "ax.set_xlabel('Componente principal 1')\n",
        "ax.set_ylabel('Componente principal 2')\n",
        "ax.set_zlabel('Componente principal 3')\n",
        "plt.show()"
      ]
    },
    {
      "cell_type": "code",
      "execution_count": null,
      "metadata": {},
      "outputs": [],
      "source": [
        "# Se grafica el PCA en tres dimensiones usando colores específicos\n",
        "fig = plt.figure(figsize=(10, 8))\n",
        "ax = fig.add_subplot(111, projection='3d')\n",
        "scatter = ax.scatter(df_pca_3['PC1'], df_pca_3['PC2'], df_pca_3['PC3'], c=cluster_colors, alpha=0.7, s=1)  # s es el tamaño de los puntos\n",
        "\n",
        "# Se crea una leyenda personalizada\n",
        "import matplotlib.patches as mpatches\n",
        "legend_handles = [mpatches.Patch(color=colors[i], label=f'Clúster {i}') for i in range(len(colors))]\n",
        "ax.legend(handles=legend_handles, title='Clústers')\n",
        "\n",
        "ax.set_title('Proyección 3D de los Clústers')\n",
        "ax.set_xlabel('Componente principal 1')\n",
        "ax.set_ylabel('Componente principal 2')\n",
        "ax.set_zlabel('Componente principal 3')\n",
        "ax.view_init(elev=10, azim=2)  # elevación y azimut en grados\n",
        "plt.show()"
      ]
    },
    {
      "cell_type": "markdown",
      "metadata": {},
      "source": [
        "En primer lugar, el añadir una nueva componente al realizar PCA permitió que la separación entre clústers sea levemente mejor, pero aún así sin lograr evidenciar una clara segmentación. Por otro lado, si se analizara la posibilidad de reducir el número de clústers, se puede decir que en general todos tienen características distintivas sobre el resto (véase el análisis descriptivo que se llevó a cabo previamente), con la posibilidad de que eventualmente se pueden juntar los clústers 0 y 2 por comportamiento relativamente similares (esto se observa en los gráficos 3D también).\n",
        "\n",
        "Por último, con respecto a un posible análisis que se puede hacer para segmentos de pasajeros de la aerolínea, se tiene que aquellos que pertenecen al clúster 3 son *low cost*, ya que en general se ven enfrentados a peores condiciones de wifi o comodidad de asientos (se asume que el pago estaría relacionado a una mejor calidad de asiento/posición, luego se corresponde con su nivel de satisfacción). Por otro lado, los pasajeros del clúster 1 y 4 son similares en cuanto a su nivel de satisfacción en los atributos vistos anteriormente, presentan altos tiempos de retraso en la salida de sus vuelos, pero se diferencian de gran manera en la distancia que vuelan. Finalmente, los pasajeros del clúster 0 y 2 son muy parecidos (como se mencionó previamente), destacando la mejor calificación para comodidad de asientos en el clúster 2, y la perfecta puntualidad que experimentan los pasajeros del clúster 0."
      ]
    }
  ],
  "metadata": {
    "colab": {
      "provenance": []
    },
    "deepnote_execution_queue": [],
    "deepnote_notebook_id": "7cb425aec99b4079954fd707109c42c3",
    "deepnote_persisted_session": {
      "createdAt": "2024-04-26T06:15:51.197Z"
    },
    "kernelspec": {
      "display_name": "venv",
      "language": "python",
      "name": "python3"
    },
    "language_info": {
      "codemirror_mode": {
        "name": "ipython",
        "version": 3
      },
      "file_extension": ".py",
      "mimetype": "text/x-python",
      "name": "python",
      "nbconvert_exporter": "python",
      "pygments_lexer": "ipython3",
      "version": "3.12.3"
    }
  },
  "nbformat": 4,
  "nbformat_minor": 0
}

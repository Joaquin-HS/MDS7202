{
  "cells": [
    {
      "cell_type": "markdown",
      "metadata": {
        "cell_id": "097fce6dce21405c911254a775ae3d26",
        "deepnote_cell_type": "markdown",
        "id": "J4_IcuuKZj9Y"
      },
      "source": [
        "<h1><center>Laboratorio 1: Git 👾</center></h1>\n",
        "\n",
        "<center><strong>MDS7202: Laboratorio de Programación Científica para Ciencia de Datos - Primavera 2024</strong></center>"
      ]
    },
    {
      "cell_type": "markdown",
      "metadata": {
        "cell_id": "9e8e8f2ae34e461da4f44508a96d2cf4",
        "deepnote_cell_type": "markdown",
        "id": "AEXIACc7aADv"
      },
      "source": [
        "### Cuerpo Docente:\n",
        "\n",
        "- Profesores: Ignacio Meza, Sebastián Tinoco\n",
        "- Auxiliar: Eduardo Moya\n",
        "- Ayudantes: Nicolás Ojeda, Melanie Peña, Valentina Rojas"
      ]
    },
    {
      "cell_type": "markdown",
      "metadata": {
        "cell_id": "3e5b48c23e1b48f6a64de41899166179",
        "deepnote_cell_type": "markdown",
        "id": "0HgMMyoCaG8X"
      },
      "source": [
        "### Equipo: **SUPER IMPORTANTE - notebooks sin nombre no serán revisados**\n",
        "\n",
        "- Nombre de alumno 1: Joaquín Herrera Suárez\n",
        "- Nombre de alumno 2: Hecmar Taucare Reyes"
      ]
    },
    {
      "cell_type": "markdown",
      "metadata": {
        "cell_id": "1db7c82b68614d19b112ba3b0d0abe4d",
        "deepnote_cell_type": "markdown",
        "id": "fz77X6glaK6y"
      },
      "source": [
        "### **Link de repositorio de GitHub:** [Insertar Enlace](https://)"
      ]
    },
    {
      "cell_type": "markdown",
      "metadata": {
        "cell_id": "bc3dac65089d4ae6a43c079547dee179",
        "deepnote_cell_type": "markdown",
        "id": "rRwqaxIZaNx3"
      },
      "source": [
        "## Reglas:\n",
        "\n",
        "- **Grupos de 2 personas**\n",
        "- Fecha de entrega: 6 días de plazo con descuento de 1 punto por día. Entregas Jueves a las 23:59.\n",
        "- Instrucciones del lab el viernes a las 16:15 en formato online. Asistencia no es obligatoria.\n",
        "- <u>Prohibidas las copias</u>. Cualquier intento de copia será debidamente penalizado con el reglamento de la escuela.\n",
        "- Tienen que subir el laboratorio a u-cursos y a su repositorio de github. Labs que no estén en u-cursos no serán revisados. Recuerden que el repositorio también tiene nota.\n",
        "- Cualquier duda fuera del horario de clases al foro. Mensajes al equipo docente serán respondidos por este medio.\n",
        "- Pueden usar cualquier material del curso que estimen conveniente."
      ]
    },
    {
      "cell_type": "markdown",
      "metadata": {
        "cell_id": "05e4729411a24153837fd13b7f198bd9",
        "deepnote_cell_type": "markdown",
        "id": "bmToL27JaSrf"
      },
      "source": [
        "## Objetivos del lab:\n",
        "\n",
        "\n",
        "- Conocer los elementos básicos que conformar `Git`\n",
        "- Clonar repositorios\n",
        "- Identificar ramas de un repositorio\n",
        "- Reconocer y solucionar problemas entre ramas\n",
        "- Subir cambios a un repositorio"
      ]
    },
    {
      "cell_type": "markdown",
      "metadata": {
        "cell_id": "5ebae9d601bd4d508349ab55297e9f82",
        "deepnote_cell_type": "markdown",
        "id": "bvnPCvrVbJLK"
      },
      "source": [
        "## Parte 1: Conocimiento Teórico (2.5 pts)\n",
        "\n",
        "<p align=\"center\">\n",
        "  <img src=\"https://cdn.thedesigninspiration.com/wp-content/uploads/sites/3/2019/04/macintosh-hdusersbrittanyloefflerdownloadsanig-1.gif\" width=\"350\">\n",
        "</p>"
      ]
    },
    {
      "cell_type": "markdown",
      "metadata": {
        "cell_id": "627494dba4f84520b3ee8b9cbf58ee79",
        "deepnote_cell_type": "markdown",
        "id": "JHl-24XnbNLF"
      },
      "source": [
        "Responda las siguientes preguntas (0.2 pts c/u):\n",
        "\n",
        "1. ¿Qué es `Git` y cómo se relaciona con el control de versiones?\n",
        "\n",
        "2. Nombre y explique 3 diferencias entre `Git` y `Github`.\n",
        "\n",
        "3. ¿Qué es un `hash` y cómo se representa en un `commit`? De un ejemplo.\n",
        "\n",
        "4. ¿Que elementos componen a la estructura de datos de `Git`?\n",
        "\n",
        "5. ¿Que comandos de `Git` sirven para crear un repositorio y hacer seguimiento a cambios en los archivos?"
      ]
    },
    {
      "cell_type": "markdown",
      "metadata": {
        "cell_id": "6d06c40f429044a298b27c666f51f46f",
        "deepnote_cell_type": "markdown",
        "id": "2tXCSkf0caG8"
      },
      "source": [
        "<code>Respuestas:</code>\n",
        "\n",
        "1. Git es un sistema de control de versiones distribuido (DVSC) que permite: gestionar distintas versiones de códigos fuente realizados para un determinado proyecto, generar caminos (ramas) que permitan desarrollar distintos aspectos del proyecto de forma ordenada, trabajar de forma colaborativa sin la dependencia completa de un servidor (como son los sistemas de control de versiones centralizados, por ejemplo), fusionar distintas versiones de código, entre otras funcionalidades.\n",
        "\n",
        "2. \n",
        "    - Git es un sistema de control de versiones. Por su parte, Github es una plataforma de alojamiento de repositorios en la web basada en Git.\n",
        "    - Git funciona de manera local tal que los cambios que se generen en archivos se guardan en la máquina de la persona que programa. Por otro lado, Github es un servicio remoto donde se almacenan y comparten los repositorios generados mediante Git.\n",
        "    - Como se ha mencionado, Git permite controlar versiones de código, gestionar ramas, etc. Github, además de aprovechar las facilidades que entrega Git, ofrece algunas características adicionales, como pueden ser los *pull request* (gestión de contribuciones), *issues* (seguimiento de problemas), entre otras.\n",
        "\n",
        "3. Un hash es un identificador único que permite representar a ciertas estructuras de datos de Git, de tal forma que sean rastreables de forma precisa. A continuación se muestra un ejemplo de un hash (\"a1575cd4cf89be17b2bac8107c38bce6c0990749\" en la imagen) que permite representar un commit:\n",
        "<div align=\"center\">\n",
        "    <img src='images/commit_hash.png' style=\"border-radius: 15px\">\n",
        "</div>\n",
        "\n",
        "4. Dentro de los principales elementos que componen la estructura de datos de Git se pueden mencionar:\n",
        "    - Los *blobs*, los cuales son la unidad base de Git que permiten guardar el contenido de los distintos archivos de un proyecto.\n",
        "    - Los *trees*, que se encargan de almacenar la estructura de archivos (blobs) y de otros trees (directorios).\n",
        "    - Los *commits*, que son fotografías del proyecto en un cierto tiempo $t$. Referencian a cierto tree, junto a otros metadatos como el autor y la fecha del commit, junto a un mensaje que permite identificar dicha fotografía.\n",
        "\n",
        "5. A continuación se muestran los comandos de Git que permiten crear un repositorio y hacer seguimiento de versiones:\n",
        "    - `git init`: permite inicializar un repositorio en el directorio actual. Genera la carpeta `.git` que contiene la base y configuración del repositorio.\n",
        "    - `git add`: permite agregar archivos o cambios al *staging area*, de tal manera que estén preparados para ser incluidos en un commit. Se puede utilizar para un archivo particular con <br>`git add *nombre_del_archivo*`, o para todos los archivos que se hayan modificado con `git add .`\n",
        "    - `git commit`: permite confirmar los cambios que se incluyeron al *staging area*. Genera una fotografía del proyecto en el historial de Git.\n",
        "    - `git status`: permite observar el estado actual del repositorio a través de ver archivos que han sido modificados, archivos que están en el *stagin area*, archivos nuevos no seguidos, entre otras características.\n",
        "    - `git log`: permite ver el historial de commits del repositorio, incluyendo sus respectivos metadatos."
      ]
    },
    {
      "cell_type": "markdown",
      "metadata": {
        "cell_id": "ec9855406e324cc98b59e33500faea84",
        "deepnote_cell_type": "markdown",
        "id": "MACccbP4gU43"
      },
      "source": [
        "Responda si las siguientes afirmaciones son Verdaderas (V) o Falsas (F). Justifique en **cualquiera** de los casos (0.2 pts c/u):\n",
        "\n",
        "\n",
        "6. `Git` siempre resuelve automáticamente los problemas de lineas al hacer merge entre diferentes ramas.\n",
        "7. Ejecutar `git pull` sobre un repositorio es equivalente a ejecutar `git clone`.\n",
        "8. `git status` genera los mismos resultados que `git log`.\n",
        "9. En `Git` es posible deshacer cambios y volver a versiones anteriores del código.\n",
        "10. El comando `git commit` se utiliza para enviar cambios al repositorio remoto."
      ]
    },
    {
      "cell_type": "markdown",
      "metadata": {
        "cell_id": "7e6a5a6e15b045cc9d104cf017825f1a",
        "deepnote_cell_type": "markdown",
        "id": "DFnmCToOgeM3"
      },
      "source": [
        "<code>Respuestas:</code>\n",
        "\n",
        "6. \n",
        "\n",
        "7. \n",
        "\n",
        "8. \n",
        "\n",
        "9. \n",
        "\n",
        "10. "
      ]
    },
    {
      "cell_type": "markdown",
      "metadata": {
        "cell_id": "54317cad024744ebaf4938df55ba3b95",
        "deepnote_cell_type": "markdown",
        "id": "LYq55sI2Rjf0"
      },
      "source": [
        "Por último, investigue y comente con sus palabras para qué sirven los siguientes comandos:\n",
        "\n",
        "11. `git stash` (0.25 puntos)\n",
        "12. `git reset`. ¿Cuál es la diferencia de este comando con `git revert`?. (0.25 puntos)"
      ]
    },
    {
      "cell_type": "markdown",
      "metadata": {},
      "source": [
        "<code>Respuestas:</code>\n",
        "\n",
        "11. \n",
        "\n",
        "12. "
      ]
    },
    {
      "cell_type": "markdown",
      "metadata": {
        "cell_id": "3e4d8b9974e4426ca38fd20f4b835a55",
        "deepnote_cell_type": "markdown",
        "id": "i7Em9JkbbRLo"
      },
      "source": [
        "## Parte 2: Creando una presentación personal (1.5 pts)\n",
        "\n",
        "<p align=\"center\">\n",
        "  <img src=\"https://media.tenor.com/arqlNu8gyJYAAAAC/cat-cat-jumping.gif\" width=\"150\">\n",
        "</p>\n",
        "\n"
      ]
    },
    {
      "cell_type": "markdown",
      "metadata": {
        "cell_id": "988648005dba4b9782c6625dfe6ae4ef",
        "deepnote_cell_type": "markdown",
        "id": "XWIHfyrlbYOJ"
      },
      "source": [
        "Para empezar a \"*soltar las manos*\" con `Git`, se les encomienda crear un repositorio con una presentación personal. El repositorio debe contener un breve resumen de quienes son ustedes, sus gustos, experiencias, y cualquier otro detalle interesante que ustedes consideren relevante.\n",
        "\n",
        "Para realizar esto, deben seguir los siguientes pasos:\n",
        "\n",
        "1. Contar con una cuenta de github (1 por persona)\n",
        "2. Crear un repositorio con su nombre de usuario\n",
        "3. Vincular el repositorio a su ambiente local ¿Qué comando(s) me permiten hacer esto? -------------> `git clone *link_HTTPS_del_repositorio*`\n",
        "4. Crear un archivo `readme.md` con la información que ustedes deseen compartir.\n",
        "5. Realizar `push` con los cambios generados\n",
        "\n",
        "A modo de ejemplo, pueden guiarse por esta *suculenta* [presentación](https://github.com/Mezosky)\n",
        "\n",
        "**Nota: Deben trabajar todos estos puntos desde su ambiente local**\n",
        "\n",
        "*Hint: Una buena opción es usar templates de presentación personal que encuentren en Google, como los que ofrece este [sitio](https://durgeshsamariya.github.io/awesome-github-profile-readme-templates/#/)*.\n",
        "\n",
        "**Entregable:**\n",
        "\n",
        "Enlace al repositorio con la presentación personal.\n",
        "\n",
        "IMPORTANTE: DEBEN ADJUNTAR UN ENLACE POR PERSONA"
      ]
    },
    {
      "cell_type": "markdown",
      "metadata": {
        "cell_id": "081b38d55dc54282bc8e3cd300ce9d3e",
        "deepnote_cell_type": "markdown",
        "id": "IIkWyl9tf0Sg"
      },
      "source": [
        "<code>Link Presentacion 1:</code> https://github.com/Joaquin-HS/Joaquin-HS\n",
        "\n",
        "<code>Link Presentacion 2:</code>"
      ]
    },
    {
      "cell_type": "markdown",
      "metadata": {
        "cell_id": "0481a05d2d1a46928f6cfb7762720980",
        "deepnote_cell_type": "markdown",
        "id": "CAzXOwvDY-IG"
      },
      "source": [
        "## Parte 3: Trabajando sobre un repositorio externo (2 pts)\n",
        "\n",
        "<p align=\"center\">\n",
        "  <img src=\"https://media.tenor.com/YXL-0SK15j4AAAAC/dance-animals.gif\" width=\"300\">\n",
        "</p>\n",
        "\n",
        "Tras muchos dolores de cabeza, un grupo de entusiastas académicos decidieron aprender sobre `Git` y así trabajar colaborativamente de forma más ordenada y eficiente. Después de una infinidad de intentos y aprender de sus errores \"*a la mala*\", los académicos lograron levantar un [repositorio](https://github.com/MDS7202/lab1) en `Github`. Usando el repositorio de los académicos, responda las siguientes preguntas (**incluya también los comandos en `Git` ocupados**):\n"
      ]
    },
    {
      "cell_type": "markdown",
      "metadata": {
        "cell_id": "bcef73b2e8604579bde90ed6622abfe9",
        "deepnote_cell_type": "markdown",
        "id": "BFRnAw0rfguR"
      },
      "source": [
        "1. Clone el repositorio a su ambiente local. (0.25 pts)"
      ]
    },
    {
      "cell_type": "markdown",
      "metadata": {
        "cell_id": "5d126ac3819c44479af94d3895bc4c97",
        "deepnote_cell_type": "markdown",
        "id": "KXro32yBeilN"
      },
      "source": [
        "<code>Respuesta:</code><br>\n",
        "Se clonó el repositorio asociado al *lab1* mediante el siguiente comando: `git clone https://github.com/MDS7202/lab1.git`"
      ]
    },
    {
      "cell_type": "markdown",
      "metadata": {
        "cell_id": "e215e4e25b2440f09ac273ba63603986",
        "deepnote_cell_type": "markdown",
        "id": "8QB-GKmQRjf1"
      },
      "source": [
        "2. Descomprima los archivos subidos con la tarea en U-cursos en la carpeta recién clonada de github. Una vez realizado esto, cree un archivo `.gitignore` con el cual omita la carpeta `videos` y los archivos con la extensión `.txt` exceptuando el archivo `171.txt` de la carpeta `texts`. (0.25 pts)"
      ]
    },
    {
      "cell_type": "markdown",
      "metadata": {
        "cell_id": "186233b44d004e3bbd86262d010188b5",
        "deepnote_cell_type": "markdown",
        "id": "7VJ8IIYpRjf1"
      },
      "source": [
        "<code>Respuesta:</code> <br>\n",
        "A continuación se muestra el texto que contiene el archivo `.gitignore` generado:\n",
        "\n",
        "```\n",
        "videos\n",
        "*.txt\n",
        "!171.txt\n",
        "```\n",
        "\n",
        "La primera línea permite omitir la carpeta `videos`, la segunda hace lo mismo para todos los archivos con la extensión `.txt`, y la última agrega la excepción para que se permita el archivo `171.txt`."
      ]
    },
    {
      "cell_type": "markdown",
      "metadata": {
        "cell_id": "1de150590a41484a988b8e46616a2324",
        "deepnote_cell_type": "markdown",
        "id": "q2qmiDyjt2M_"
      },
      "source": [
        "3. Inspeccione brevemente el repositorio: ¿Cual es el objetivo del proyecto? Explique brevemente la estructura del proyecto, asi como también cada elemento que lo conforma. (0.25 pts)"
      ]
    },
    {
      "cell_type": "markdown",
      "metadata": {
        "cell_id": "082ca01c865e48e28352b280400c47b6",
        "deepnote_cell_type": "markdown",
        "id": "aBHpR8VTftkT"
      },
      "source": [
        "<code>Respuesta:</code> <br>\n",
        "\n",
        "El proyecto tiene como objetivo emular los sonidos de animales. Está estructurado tal que, cuando se ejecuta el archivo `main.py` se le pide al usuario un animal, y éste se procesa mediante la función `animales` definida en el archivo `animales.py`. Esta función imprime en pantalla la onomatopeya que imita el sonido del animal reconocido (o un link a un video relacionado), o lanza un error si no logra reconocerlo. Además, el repositorio cuenta con un archivo `readme.md` que explica el objetivo del proyecto."
      ]
    },
    {
      "cell_type": "markdown",
      "metadata": {
        "cell_id": "3aab4a3ee0c246e1be955680ad653fb8",
        "deepnote_cell_type": "markdown",
        "id": "XFwqcpLZfylf"
      },
      "source": [
        "4. Identifique los últimos cambios al repositorio, reconociendo las principales ramas de trabajo. ¿Son informativos los `commit` realizados? (0.25 pts)\n",
        "*Hint: Se recomienda usar los argumentos `all`, `graph` y `decorate`*"
      ]
    },
    {
      "cell_type": "markdown",
      "metadata": {
        "cell_id": "0fab79a360ac4c6a9ca0ab884f85c7e1",
        "deepnote_cell_type": "markdown",
        "id": "cmWfXBkOhog0"
      },
      "source": [
        "<code>Respuesta:</code> <br>\n",
        "\n",
        "El primer commit (*primer commit*) no es informativo, ya que debería mencionar que agregó los archivos `readme.md` y `main.py`, quizás junto a una leve explicación de lo que hace `main`. El segundo commit (*se agrega funcion*) es más informativo, pero quizás podría especificar cuál función es la que se está agregando. El tercer commit (*Se separa el proyecto en modulos*) es explicativo, pudiendo quizás nuevamente especificar cuál fue la separación. Finalmente, el último commit (*fix ifs*) es completamente informativo, ya que muestra específicamente lo que se hace: arreglar unos errores en los if's.\n",
        "\n",
        "Se destaca que los tres primeros commits se efectuaron en la rama de trabajo `main`, mientras que el último se llevó a cabo en una rama alternativa `fix-ifs` específica para un parche pequeño."
      ]
    },
    {
      "cell_type": "markdown",
      "metadata": {
        "cell_id": "d07b24d21f2343fb9a7e6a5db74e98c3",
        "deepnote_cell_type": "markdown",
        "id": "Vqbj9HdXrUnN"
      },
      "source": [
        "5. Uno de los académicos se da cuenta que la rama principal de trabajo no se ejecuta correctamente para todos los argumentos. Señale y explique el error en el código e identifique a la persona que lo cometió usando `git blame` (0.25 pts)\n",
        "\n",
        "*Hint: Le puede ser útil esta [documentación](https://www.atlassian.com/es/git/tutorials/inspecting-a-repository/git-blame).*"
      ]
    },
    {
      "cell_type": "markdown",
      "metadata": {
        "cell_id": "bc5b0f9c639643108f8e66687b721732",
        "deepnote_cell_type": "markdown",
        "id": "5ajhV2Iar3tV"
      },
      "source": [
        "<code>Respuesta:</code> <br>\n",
        "El error se basa en que el código asociado al `else` solamente se enlaza con el último `if`, dado que no se emplean `elif's` para los otros condicionales. Esto implica que, para cualquier argumento que se entregue, siempre se preguntará si es *gato* o *perro*, y si es *zorro* o no. Esto genera que, si se entrega *gato* o *perro*, se cumplirá el condicional respectivo, y siempre entrará al `else` cuando se llegue al `if` que pregunta si es *zorro*, lo que entrega genera un error. \n",
        "\n",
        "Para identificar a la persona que cometió el error hay que recordar (según lo respondido en la pregunta anterior) que la función fue agregada en primera instancia al archivo `main.py` en el commit `c8b1a62d7299552b0654f930d695b33109214111`. De esta forma, se decidió ir a revisar ese commit mediante el comando `git checkout c8b1a62d7299552b0654f930d695b33109214111`, y una vez ahí se ejecuta `git blame main.py`, para observar los metadatos de autor adjuntos a las líneas de código del archivo. A continuación se muestra lo obtenido:\n",
        "\n",
        "```\n",
        "c8b1a62d (seba 2023-03-22 17:28:19 -0300  1) def animales(input):\n",
        "c8b1a62d (seba 2023-03-22 17:28:19 -0300  2)\n",
        "c8b1a62d (seba 2023-03-22 17:28:19 -0300  3)     '''\n",
        "c8b1a62d (seba 2023-03-22 17:28:19 -0300  4)     Como hace el animalito?\n",
        "c8b1a62d (seba 2023-03-22 17:28:19 -0300  5)     '''\n",
        "c8b1a62d (seba 2023-03-22 17:28:19 -0300  6)\n",
        "c8b1a62d (seba 2023-03-22 17:28:19 -0300  7)     if input.lower() == 'gato':\n",
        "c8b1a62d (seba 2023-03-22 17:28:19 -0300  8)         print('miau')\n",
        "c8b1a62d (seba 2023-03-22 17:28:19 -0300  9)     if input.lower() == 'perro':\n",
        "c8b1a62d (seba 2023-03-22 17:28:19 -0300 10)         print('guau')\n",
        "c8b1a62d (seba 2023-03-22 17:28:19 -0300 11)     if input.lower() == 'fox':\n",
        "c8b1a62d (seba 2023-03-22 17:28:19 -0300 12)         print('https://www.youtube.com/watch?v=jofNR_WkoCE')\n",
        "c8b1a62d (seba 2023-03-22 17:28:19 -0300 13)     else:\n",
        "c8b1a62d (seba 2023-03-22 17:28:19 -0300 14)         raise ValueError('animal no reconocido :(')\n",
        "```\n",
        "Aquí se puede ver como el autor del error fue **seba**."
      ]
    },
    {
      "cell_type": "markdown",
      "metadata": {
        "cell_id": "f3f4e78e6d9145ebbb120c0a2e4aade6",
        "deepnote_cell_type": "markdown",
        "id": "m8J3uE7MhqTA"
      },
      "source": [
        "6. Busque los siguientes `commit`:\n",
        "\n",
        "- `c8b1a62d7299552b0654f930d695b33109214111`\n",
        "- `362fe21ee44f53ee944cee4ba484600308f83d78`\n",
        "- `25543a3baf77292baf849726784ca005473acab1`\n",
        "\n",
        "¿Qué diferencias existen entre cada uno? (0.25 pts)"
      ]
    },
    {
      "cell_type": "markdown",
      "metadata": {
        "cell_id": "696ed361ac0c41c8a214cfad9dcb39e6",
        "deepnote_cell_type": "markdown",
        "id": "sNHnZsgIitGh"
      },
      "source": [
        "<code>Respuesta:</code> <br>\n",
        "\n",
        "Para buscar los commits hay que ejecutar `git checkout *hash_commit*`. Como se mencionó previamente, en el commit `c8b1a62d7299552b0654f930d695b33109214111` (*se agrega funcion*) se agrega la función `animales` al archivo `main.py`. En el commit `362fe21ee44f53ee944cee4ba484600308f83d78` (*Se separa el proyecto en modulos*) se separa el proyecto tal que la función `animales` se mueve a un nuevo archivo `animales.py`, mientras que en el archivo `main.py` se cambian las líneas asociadas a la función por `from animales import animales`. Por último, el commit `25543a3baf77292baf849726784ca005473acab1` (*fix ifs*) se encarga de realizar los cambios necesarios para que el error mencionado en la pregunta anterior deje de ocurrir. Se destaca que este último commit se realizó para una branch distinta a las anteriores (los commits anteriores se efectuaron en la rama `main`, mientras que éste se realizó en la rama `fix-ifs`), en la cual aún no se habia mandado el commit relacionado a la separación del código en módulos, por lo que los cambios a la función `animales` se hicieron sobre `main.py` en vez de en `animales.py`."
      ]
    },
    {
      "cell_type": "markdown",
      "metadata": {
        "cell_id": "b4e18f8ce94c430f85915c4e2732d05b",
        "deepnote_cell_type": "markdown",
        "id": "WQIPbfNCgpxC"
      },
      "source": [
        "7. Realice una `merge` de la rama `fix-ifs` con la rama `main` y describa lo que ocurre. ¿Qué parte del código podría estar ocasionando esto? (0.25 pts)"
      ]
    },
    {
      "cell_type": "markdown",
      "metadata": {
        "cell_id": "36da6a0d4f4a427bbccac09e2ae965fd",
        "deepnote_cell_type": "markdown",
        "id": "ypH_6lL5ioZz"
      },
      "source": [
        "<code>Respuesta:</code> <br>\n",
        "El merge se ejecuta con el siguiente comando: `git merge fix-ifs main`. Se generó un conflicto derivado de que la rama `main` tiene la función `animales` en el archivo `animales.py` en vez de en el archivo `main.py`, lo cual fue generado por la separación del proyecto en módulos. Por su parte, en la rama `fix-ifs` aún no se había realizado la modularización, por lo que la función `animales` aún se encontraba en el archivo `main.py`. A continuación se muestra el conflicto generado:\n",
        "\n",
        "```\n",
        "<<<<<<< HEAD\n",
        "from animales import animales\n",
        "=======\n",
        "def animales(input):\n",
        "    \n",
        "    '''\n",
        "    Como hace el animalito?\n",
        "    '''\n",
        "    \n",
        "    if input.lower() == 'gato':\n",
        "        print('miau')\n",
        "    elif input.lower() == 'perro':\n",
        "        print('guau')\n",
        "    elif input.lower() == 'fox':\n",
        "        print('https://www.youtube.com/watch?v=jofNR_WkoCE')\n",
        "    else:\n",
        "        raise ValueError('animal no reconocido :(')\n",
        ">>>>>>> fix-ifs\n",
        "```\n"
      ]
    },
    {
      "cell_type": "markdown",
      "metadata": {
        "cell_id": "09787ab449c543479e5cc54c2a3b6c19",
        "deepnote_cell_type": "markdown",
        "id": "GYfODCjeivkU"
      },
      "source": [
        "8. Cree una rama nueva y proponga una solución al problema anterior, adjuntando el código corregido y señalando las líneas modificadas. (0.25 pts)"
      ]
    },
    {
      "cell_type": "markdown",
      "metadata": {
        "cell_id": "6d963fba3f2d4c17a4b281c7d3f4fb8b",
        "deepnote_cell_type": "markdown",
        "id": "8heBxDU9iziT"
      },
      "source": [
        "<code>Respuesta:</code> <br>\n",
        "Para resolver el conflicto generado se crea una nueva rama a partir de `main`. Esto se puede hacer mediante los siguientes comandos:\n",
        "\n",
        "```\n",
        "git checkout main\n",
        "git branch fix-conflict\n",
        "git checkout fix-conflict\n",
        "```\n",
        "Una vez en la rama nueva se vuelve a hacer un merge con la rama `fix-ifs`: `git merge fix-ifs`. Habiéndose generado el mismo conflicto que antes, se decide integrar los cambios realizados en ambas ramas, ya que ambos son importantes. Esto se realiza manteniendo en `main.py` el *import* de la función, y dejando la versión corregida de la función en `animales.py`. Finalmente, se añaden los archivos modificados a la *staging area* y se realiza un commit que marque que el conflicto fue resuelto:\n",
        "\n",
        "```\n",
        "git add main.py animales.py\n",
        "git commit -m \"conflicto resuelto\"\n",
        "```\n",
        "\n",
        "Se entra a la rama `main` para dejar los cambios realizados ahí mediante un merge con la rama `fix-conflict`:\n",
        "```\n",
        "git checkout main\n",
        "git merge fix-conflict\n",
        "```\n",
        "\n",
        "Por último, se borra la rama auxiliar `fix-conflict` con `git branch -d fix-conflict`, y se señalan las líneas modificadas con `git diff e2775e1ca421cad13832e57c34c8beb36d40f839 b24a930c19349ba2e09b8288f589027787e35dbd`, lo que es equivalente a `git diff HEAD~1 HEAD`, es decir, se comparan las diferencias entre el último commit realizado y el anterior (previo a resolver el conflicto). A continuación se muestra lo obtenido:\n",
        "\n",
        "```\n",
        "diff --git a/animales.py b/animales.py\n",
        "index 694e39c..9fdc575 100644\n",
        "--- a/animales.py\n",
        "+++ b/animales.py\n",
        "@@ -6,9 +6,9 @@ def animales(input):\n",
        "\n",
        "     if input.lower() == 'gato':\n",
        "         print('miau')\n",
        "-    if input.lower() == 'perro':\n",
        "+    elif input.lower() == 'perro':\n",
        "         print('guau')\n",
        "-    if input.lower() == 'fox':\n",
        "+    elif input.lower() == 'fox':\n",
        "         print('https://www.youtube.com/watch?v=jofNR_WkoCE')\n",
        "     else:\n",
        "-        raise ValueError('animal no reconocido :(')\n",
        "+        raise ValueError('animal no reconocido :(')\n",
        "\\ No newline at end of file\n",
        "```\n",
        "\n",
        "Se obtuvo lo esperado: solo se arreglaron los `ifs`."
      ]
    },
    {
      "cell_type": "markdown",
      "metadata": {
        "cell_id": "8a47d4bf8b3045d68e4f29bb449c87f1",
        "deepnote_cell_type": "markdown",
        "id": "Av8ebB9jkALO"
      },
      "source": [
        "## Fin"
      ]
    },
    {
      "cell_type": "markdown",
      "metadata": {
        "cell_id": "cec4b53942ed489f8f8b63d0e9d4f3e5",
        "deepnote_cell_type": "markdown",
        "id": "aQqZT9fSkBK8"
      },
      "source": [
        "Eso ha sido todo por ahora!! Esperamos que este laboratorio les haya gustado y servido para trabajar con `Git`. Recuerden los dias de plazo que tienen disponibles y que ante cualquier duda no duden en contactar al equipo docente.\n",
        "\n",
        "Nos vemos!!\n",
        "\n",
        "<p align=\"center\">\n",
        "  <img src=\"https://media.tenor.com/OYLdav9k9LkAAAAd/kitty-cat.gif\" width=\"350\">\n",
        "</p>\n"
      ]
    }
  ],
  "metadata": {
    "colab": {
      "provenance": []
    },
    "deepnote_execution_queue": [],
    "deepnote_notebook_id": "62cd20d52b9a4810ada15644630456dc",
    "kernelspec": {
      "display_name": "venv",
      "language": "python",
      "name": "python3"
    },
    "language_info": {
      "name": "python",
      "version": "3.12.3"
    }
  },
  "nbformat": 4,
  "nbformat_minor": 0
}
